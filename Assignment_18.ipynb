{
  "nbformat": 4,
  "nbformat_minor": 5,
  "metadata": {
    "kernelspec": {
      "display_name": "Python 3",
      "language": "python",
      "name": "python3"
    },
    "language_info": {
      "codemirror_mode": {
        "name": "ipython",
        "version": 3
      },
      "file_extension": ".py",
      "mimetype": "text/x-python",
      "name": "python",
      "nbconvert_exporter": "python",
      "pygments_lexer": "ipython3",
      "version": "3.7.10"
    },
    "papermill": {
      "default_parameters": {},
      "duration": 479.300357,
      "end_time": "2021-10-20T22:08:26.987257",
      "environment_variables": {},
      "exception": null,
      "input_path": "__notebook__.ipynb",
      "output_path": "__notebook__.ipynb",
      "parameters": {},
      "start_time": "2021-10-20T22:00:27.686900",
      "version": "2.3.3"
    },
    "colab": {
      "name": "Assignment-18.ipynb",
      "provenance": [],
      "collapsed_sections": []
    }
  },
  "cells": [
    {
      "cell_type": "markdown",
      "metadata": {
        "papermill": {
          "duration": 0.039928,
          "end_time": "2021-10-20T22:00:36.788889",
          "exception": false,
          "start_time": "2021-10-20T22:00:36.748961",
          "status": "completed"
        },
        "tags": [],
        "id": "47b85f6a"
      },
      "source": [
        "# Import Libraries"
      ],
      "id": "47b85f6a"
    },
    {
      "cell_type": "code",
      "metadata": {
        "execution": {
          "iopub.execute_input": "2021-10-20T22:00:36.870528Z",
          "iopub.status.busy": "2021-10-20T22:00:36.869342Z",
          "iopub.status.idle": "2021-10-20T22:00:36.888933Z",
          "shell.execute_reply": "2021-10-20T22:00:36.889557Z",
          "shell.execute_reply.started": "2021-10-20T21:35:09.960309Z"
        },
        "papermill": {
          "duration": 0.061436,
          "end_time": "2021-10-20T22:00:36.889851",
          "exception": false,
          "start_time": "2021-10-20T22:00:36.828415",
          "status": "completed"
        },
        "tags": [],
        "id": "ce71b663"
      },
      "source": [
        "import numpy as np\n",
        "import pandas as pd\n",
        "\n",
        "import os\n",
        "for dirname, _, filenames in os.walk('/kaggle/input'):\n",
        "    for filename in filenames:\n",
        "        print(os.path.join(dirname, filename))"
      ],
      "id": "ce71b663",
      "execution_count": 1,
      "outputs": []
    },
    {
      "cell_type": "code",
      "metadata": {
        "execution": {
          "iopub.execute_input": "2021-10-20T22:00:36.970350Z",
          "iopub.status.busy": "2021-10-20T22:00:36.969709Z",
          "iopub.status.idle": "2021-10-20T22:00:38.349584Z",
          "shell.execute_reply": "2021-10-20T22:00:38.348579Z",
          "shell.execute_reply.started": "2021-10-20T21:37:30.188641Z"
        },
        "papermill": {
          "duration": 1.420876,
          "end_time": "2021-10-20T22:00:38.349746",
          "exception": false,
          "start_time": "2021-10-20T22:00:36.928870",
          "status": "completed"
        },
        "tags": [],
        "id": "c49aa111"
      },
      "source": [
        "import numpy as np\n",
        "import pandas as pd\n",
        "import matplotlib.pyplot as plt\n",
        "import seaborn as sns\n",
        "sns.set_style('white')\n",
        "\n",
        "from sklearn.linear_model import LogisticRegression\n",
        "from sklearn.svm import SVC\n",
        "from sklearn.neighbors import KNeighborsClassifier\n",
        "from sklearn.ensemble import RandomForestClassifier\n",
        "\n",
        "from sklearn.model_selection import train_test_split, cross_val_score\n",
        "from sklearn.preprocessing import StandardScaler\n",
        "from sklearn.model_selection import RandomizedSearchCV, GridSearchCV\n",
        "from sklearn.metrics import confusion_matrix, classification_report, accuracy_score\n",
        "from sklearn.metrics import precision_score, recall_score, f1_score, roc_auc_score\n",
        "from sklearn.metrics import plot_roc_curve, RocCurveDisplay, plot_confusion_matrix\n",
        "\n",
        "\n",
        "%matplotlib inline"
      ],
      "id": "c49aa111",
      "execution_count": 2,
      "outputs": []
    },
    {
      "cell_type": "markdown",
      "metadata": {
        "papermill": {
          "duration": 0.038651,
          "end_time": "2021-10-20T22:00:38.428107",
          "exception": false,
          "start_time": "2021-10-20T22:00:38.389456",
          "status": "completed"
        },
        "tags": [],
        "id": "4d20c0e8"
      },
      "source": [
        "# Load Dataset"
      ],
      "id": "4d20c0e8"
    },
    {
      "cell_type": "code",
      "metadata": {
        "colab": {
          "resources": {
            "http://localhost:8080/nbextensions/google.colab/files.js": {
              "data": "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",
              "ok": true,
              "headers": [
                [
                  "content-type",
                  "application/javascript"
                ]
              ],
              "status": 200,
              "status_text": ""
            }
          },
          "base_uri": "https://localhost:8080/",
          "height": 73
        },
        "id": "NXX5-Cilqh47",
        "outputId": "ddbd3aad-dedd-4188-81e4-6ed93c52b5b0"
      },
      "source": [
        "from google.colab import files\n",
        "data = files.upload()"
      ],
      "id": "NXX5-Cilqh47",
      "execution_count": 4,
      "outputs": [
        {
          "output_type": "display_data",
          "data": {
            "text/html": [
              "\n",
              "     <input type=\"file\" id=\"files-45d873fe-02ea-40e7-85e8-e5d5a14e3c4a\" name=\"files[]\" multiple disabled\n",
              "        style=\"border:none\" />\n",
              "     <output id=\"result-45d873fe-02ea-40e7-85e8-e5d5a14e3c4a\">\n",
              "      Upload widget is only available when the cell has been executed in the\n",
              "      current browser session. Please rerun this cell to enable.\n",
              "      </output>\n",
              "      <script src=\"/nbextensions/google.colab/files.js\"></script> "
            ],
            "text/plain": [
              "<IPython.core.display.HTML object>"
            ]
          },
          "metadata": {}
        },
        {
          "output_type": "stream",
          "name": "stdout",
          "text": [
            "Saving heart.csv to heart.csv\n"
          ]
        }
      ]
    },
    {
      "cell_type": "code",
      "metadata": {
        "execution": {
          "iopub.execute_input": "2021-10-20T22:00:38.508842Z",
          "iopub.status.busy": "2021-10-20T22:00:38.508185Z",
          "iopub.status.idle": "2021-10-20T22:00:38.541696Z",
          "shell.execute_reply": "2021-10-20T22:00:38.542229Z",
          "shell.execute_reply.started": "2021-10-20T21:35:29.356914Z"
        },
        "papermill": {
          "duration": 0.075245,
          "end_time": "2021-10-20T22:00:38.542412",
          "exception": false,
          "start_time": "2021-10-20T22:00:38.467167",
          "status": "completed"
        },
        "tags": [],
        "colab": {
          "base_uri": "https://localhost:8080/",
          "height": 204
        },
        "id": "dd0368e0",
        "outputId": "d0b0385a-d2ba-41ef-87c2-648c5a725ae5"
      },
      "source": [
        "df = pd.read_csv('heart.csv')\n",
        "df.head()"
      ],
      "id": "dd0368e0",
      "execution_count": 5,
      "outputs": [
        {
          "output_type": "execute_result",
          "data": {
            "text/html": [
              "<div>\n",
              "<style scoped>\n",
              "    .dataframe tbody tr th:only-of-type {\n",
              "        vertical-align: middle;\n",
              "    }\n",
              "\n",
              "    .dataframe tbody tr th {\n",
              "        vertical-align: top;\n",
              "    }\n",
              "\n",
              "    .dataframe thead th {\n",
              "        text-align: right;\n",
              "    }\n",
              "</style>\n",
              "<table border=\"1\" class=\"dataframe\">\n",
              "  <thead>\n",
              "    <tr style=\"text-align: right;\">\n",
              "      <th></th>\n",
              "      <th>age</th>\n",
              "      <th>sex</th>\n",
              "      <th>cp</th>\n",
              "      <th>trestbps</th>\n",
              "      <th>chol</th>\n",
              "      <th>fbs</th>\n",
              "      <th>restecg</th>\n",
              "      <th>thalach</th>\n",
              "      <th>exang</th>\n",
              "      <th>oldpeak</th>\n",
              "      <th>slope</th>\n",
              "      <th>ca</th>\n",
              "      <th>thal</th>\n",
              "      <th>target</th>\n",
              "    </tr>\n",
              "  </thead>\n",
              "  <tbody>\n",
              "    <tr>\n",
              "      <th>0</th>\n",
              "      <td>63</td>\n",
              "      <td>1</td>\n",
              "      <td>3</td>\n",
              "      <td>145</td>\n",
              "      <td>233</td>\n",
              "      <td>1</td>\n",
              "      <td>0</td>\n",
              "      <td>150</td>\n",
              "      <td>0</td>\n",
              "      <td>2.3</td>\n",
              "      <td>0</td>\n",
              "      <td>0</td>\n",
              "      <td>1</td>\n",
              "      <td>1</td>\n",
              "    </tr>\n",
              "    <tr>\n",
              "      <th>1</th>\n",
              "      <td>37</td>\n",
              "      <td>1</td>\n",
              "      <td>2</td>\n",
              "      <td>130</td>\n",
              "      <td>250</td>\n",
              "      <td>0</td>\n",
              "      <td>1</td>\n",
              "      <td>187</td>\n",
              "      <td>0</td>\n",
              "      <td>3.5</td>\n",
              "      <td>0</td>\n",
              "      <td>0</td>\n",
              "      <td>2</td>\n",
              "      <td>1</td>\n",
              "    </tr>\n",
              "    <tr>\n",
              "      <th>2</th>\n",
              "      <td>41</td>\n",
              "      <td>0</td>\n",
              "      <td>1</td>\n",
              "      <td>130</td>\n",
              "      <td>204</td>\n",
              "      <td>0</td>\n",
              "      <td>0</td>\n",
              "      <td>172</td>\n",
              "      <td>0</td>\n",
              "      <td>1.4</td>\n",
              "      <td>2</td>\n",
              "      <td>0</td>\n",
              "      <td>2</td>\n",
              "      <td>1</td>\n",
              "    </tr>\n",
              "    <tr>\n",
              "      <th>3</th>\n",
              "      <td>56</td>\n",
              "      <td>1</td>\n",
              "      <td>1</td>\n",
              "      <td>120</td>\n",
              "      <td>236</td>\n",
              "      <td>0</td>\n",
              "      <td>1</td>\n",
              "      <td>178</td>\n",
              "      <td>0</td>\n",
              "      <td>0.8</td>\n",
              "      <td>2</td>\n",
              "      <td>0</td>\n",
              "      <td>2</td>\n",
              "      <td>1</td>\n",
              "    </tr>\n",
              "    <tr>\n",
              "      <th>4</th>\n",
              "      <td>57</td>\n",
              "      <td>0</td>\n",
              "      <td>0</td>\n",
              "      <td>120</td>\n",
              "      <td>354</td>\n",
              "      <td>0</td>\n",
              "      <td>1</td>\n",
              "      <td>163</td>\n",
              "      <td>1</td>\n",
              "      <td>0.6</td>\n",
              "      <td>2</td>\n",
              "      <td>0</td>\n",
              "      <td>2</td>\n",
              "      <td>1</td>\n",
              "    </tr>\n",
              "  </tbody>\n",
              "</table>\n",
              "</div>"
            ],
            "text/plain": [
              "   age  sex  cp  trestbps  chol  fbs  ...  exang  oldpeak  slope  ca  thal  target\n",
              "0   63    1   3       145   233    1  ...      0      2.3      0   0     1       1\n",
              "1   37    1   2       130   250    0  ...      0      3.5      0   0     2       1\n",
              "2   41    0   1       130   204    0  ...      0      1.4      2   0     2       1\n",
              "3   56    1   1       120   236    0  ...      0      0.8      2   0     2       1\n",
              "4   57    0   0       120   354    0  ...      1      0.6      2   0     2       1\n",
              "\n",
              "[5 rows x 14 columns]"
            ]
          },
          "metadata": {},
          "execution_count": 5
        }
      ]
    },
    {
      "cell_type": "markdown",
      "metadata": {
        "papermill": {
          "duration": 0.038844,
          "end_time": "2021-10-20T22:00:38.621420",
          "exception": false,
          "start_time": "2021-10-20T22:00:38.582576",
          "status": "completed"
        },
        "tags": [],
        "id": "a701d9d1"
      },
      "source": [
        "# Data Dictionary\n",
        "- age in years\n",
        "- sex (1 = male , 0 = femal)\n",
        "- cp(chest pain type):\n",
        "    - 1: typical angina\n",
        "    - 2: atypical angina\n",
        "    - 3: non-anginal pain\n",
        "    - 4: asymptomatic\n",
        "- trestbps(resting blood pressure) in mm Hg on admission to the hospital)\n",
        "- chol(serum cholestoral) in mg/dl\n",
        "- fbs(fasting blood sugar) > 120 mg/dl (1 = true , 0 = false)\n",
        "- restecg(resting electrocardiographic results):\n",
        "     - 0: normal\n",
        "     - 1: having ST-T wave abnormality (T wave inversions and/or ST elevation or depression of > 0.05 mV)\n",
        "     - 2: showing probable or definite left ventricular hypertrophy by Estes' criteria\n",
        "- thalach(maximum heart rate achieved)\n",
        "- exang(exercise induced angina) (1 = yes , 0 = no)\n",
        "- oldpeak = ST depression induced by exercise relative to rest\n",
        "- slope(the slope of the peak exercise ST segment):\n",
        "    - 1: upsloping\n",
        "    - 2: flat\n",
        "    - 3: downsloping\n",
        "- ca number of major vessels (0-3) colored by flourosopy\n",
        "- thal: 3 = normal; 6 = fixed defect; 7 = reversable defect\n",
        "- target 0 = No Diesase , 1 = Diesase"
      ],
      "id": "a701d9d1"
    },
    {
      "cell_type": "code",
      "metadata": {
        "execution": {
          "iopub.execute_input": "2021-10-20T22:00:38.703584Z",
          "iopub.status.busy": "2021-10-20T22:00:38.702876Z",
          "iopub.status.idle": "2021-10-20T22:00:38.725646Z",
          "shell.execute_reply": "2021-10-20T22:00:38.726240Z",
          "shell.execute_reply.started": "2021-10-20T21:37:51.948079Z"
        },
        "papermill": {
          "duration": 0.065074,
          "end_time": "2021-10-20T22:00:38.726414",
          "exception": false,
          "start_time": "2021-10-20T22:00:38.661340",
          "status": "completed"
        },
        "tags": [],
        "colab": {
          "base_uri": "https://localhost:8080/"
        },
        "id": "4c8d13cb",
        "outputId": "ebb91cd6-043a-419d-abec-2ec013d778f5"
      },
      "source": [
        "df.info()"
      ],
      "id": "4c8d13cb",
      "execution_count": 6,
      "outputs": [
        {
          "output_type": "stream",
          "name": "stdout",
          "text": [
            "<class 'pandas.core.frame.DataFrame'>\n",
            "RangeIndex: 303 entries, 0 to 302\n",
            "Data columns (total 14 columns):\n",
            " #   Column    Non-Null Count  Dtype  \n",
            "---  ------    --------------  -----  \n",
            " 0   age       303 non-null    int64  \n",
            " 1   sex       303 non-null    int64  \n",
            " 2   cp        303 non-null    int64  \n",
            " 3   trestbps  303 non-null    int64  \n",
            " 4   chol      303 non-null    int64  \n",
            " 5   fbs       303 non-null    int64  \n",
            " 6   restecg   303 non-null    int64  \n",
            " 7   thalach   303 non-null    int64  \n",
            " 8   exang     303 non-null    int64  \n",
            " 9   oldpeak   303 non-null    float64\n",
            " 10  slope     303 non-null    int64  \n",
            " 11  ca        303 non-null    int64  \n",
            " 12  thal      303 non-null    int64  \n",
            " 13  target    303 non-null    int64  \n",
            "dtypes: float64(1), int64(13)\n",
            "memory usage: 33.3 KB\n"
          ]
        }
      ]
    },
    {
      "cell_type": "code",
      "metadata": {
        "execution": {
          "iopub.execute_input": "2021-10-20T22:00:38.873775Z",
          "iopub.status.busy": "2021-10-20T22:00:38.873085Z",
          "iopub.status.idle": "2021-10-20T22:00:38.921290Z",
          "shell.execute_reply": "2021-10-20T22:00:38.921889Z",
          "shell.execute_reply.started": "2021-10-20T21:38:05.417234Z"
        },
        "papermill": {
          "duration": 0.09457,
          "end_time": "2021-10-20T22:00:38.922069",
          "exception": false,
          "start_time": "2021-10-20T22:00:38.827499",
          "status": "completed"
        },
        "tags": [],
        "colab": {
          "base_uri": "https://localhost:8080/",
          "height": 483
        },
        "id": "aeca3297",
        "outputId": "59e1fe2c-335a-463c-839e-1db899eda731"
      },
      "source": [
        "df.describe().transpose()"
      ],
      "id": "aeca3297",
      "execution_count": 7,
      "outputs": [
        {
          "output_type": "execute_result",
          "data": {
            "text/html": [
              "<div>\n",
              "<style scoped>\n",
              "    .dataframe tbody tr th:only-of-type {\n",
              "        vertical-align: middle;\n",
              "    }\n",
              "\n",
              "    .dataframe tbody tr th {\n",
              "        vertical-align: top;\n",
              "    }\n",
              "\n",
              "    .dataframe thead th {\n",
              "        text-align: right;\n",
              "    }\n",
              "</style>\n",
              "<table border=\"1\" class=\"dataframe\">\n",
              "  <thead>\n",
              "    <tr style=\"text-align: right;\">\n",
              "      <th></th>\n",
              "      <th>count</th>\n",
              "      <th>mean</th>\n",
              "      <th>std</th>\n",
              "      <th>min</th>\n",
              "      <th>25%</th>\n",
              "      <th>50%</th>\n",
              "      <th>75%</th>\n",
              "      <th>max</th>\n",
              "    </tr>\n",
              "  </thead>\n",
              "  <tbody>\n",
              "    <tr>\n",
              "      <th>age</th>\n",
              "      <td>303.0</td>\n",
              "      <td>54.366337</td>\n",
              "      <td>9.082101</td>\n",
              "      <td>29.0</td>\n",
              "      <td>47.5</td>\n",
              "      <td>55.0</td>\n",
              "      <td>61.0</td>\n",
              "      <td>77.0</td>\n",
              "    </tr>\n",
              "    <tr>\n",
              "      <th>sex</th>\n",
              "      <td>303.0</td>\n",
              "      <td>0.683168</td>\n",
              "      <td>0.466011</td>\n",
              "      <td>0.0</td>\n",
              "      <td>0.0</td>\n",
              "      <td>1.0</td>\n",
              "      <td>1.0</td>\n",
              "      <td>1.0</td>\n",
              "    </tr>\n",
              "    <tr>\n",
              "      <th>cp</th>\n",
              "      <td>303.0</td>\n",
              "      <td>0.966997</td>\n",
              "      <td>1.032052</td>\n",
              "      <td>0.0</td>\n",
              "      <td>0.0</td>\n",
              "      <td>1.0</td>\n",
              "      <td>2.0</td>\n",
              "      <td>3.0</td>\n",
              "    </tr>\n",
              "    <tr>\n",
              "      <th>trestbps</th>\n",
              "      <td>303.0</td>\n",
              "      <td>131.623762</td>\n",
              "      <td>17.538143</td>\n",
              "      <td>94.0</td>\n",
              "      <td>120.0</td>\n",
              "      <td>130.0</td>\n",
              "      <td>140.0</td>\n",
              "      <td>200.0</td>\n",
              "    </tr>\n",
              "    <tr>\n",
              "      <th>chol</th>\n",
              "      <td>303.0</td>\n",
              "      <td>246.264026</td>\n",
              "      <td>51.830751</td>\n",
              "      <td>126.0</td>\n",
              "      <td>211.0</td>\n",
              "      <td>240.0</td>\n",
              "      <td>274.5</td>\n",
              "      <td>564.0</td>\n",
              "    </tr>\n",
              "    <tr>\n",
              "      <th>fbs</th>\n",
              "      <td>303.0</td>\n",
              "      <td>0.148515</td>\n",
              "      <td>0.356198</td>\n",
              "      <td>0.0</td>\n",
              "      <td>0.0</td>\n",
              "      <td>0.0</td>\n",
              "      <td>0.0</td>\n",
              "      <td>1.0</td>\n",
              "    </tr>\n",
              "    <tr>\n",
              "      <th>restecg</th>\n",
              "      <td>303.0</td>\n",
              "      <td>0.528053</td>\n",
              "      <td>0.525860</td>\n",
              "      <td>0.0</td>\n",
              "      <td>0.0</td>\n",
              "      <td>1.0</td>\n",
              "      <td>1.0</td>\n",
              "      <td>2.0</td>\n",
              "    </tr>\n",
              "    <tr>\n",
              "      <th>thalach</th>\n",
              "      <td>303.0</td>\n",
              "      <td>149.646865</td>\n",
              "      <td>22.905161</td>\n",
              "      <td>71.0</td>\n",
              "      <td>133.5</td>\n",
              "      <td>153.0</td>\n",
              "      <td>166.0</td>\n",
              "      <td>202.0</td>\n",
              "    </tr>\n",
              "    <tr>\n",
              "      <th>exang</th>\n",
              "      <td>303.0</td>\n",
              "      <td>0.326733</td>\n",
              "      <td>0.469794</td>\n",
              "      <td>0.0</td>\n",
              "      <td>0.0</td>\n",
              "      <td>0.0</td>\n",
              "      <td>1.0</td>\n",
              "      <td>1.0</td>\n",
              "    </tr>\n",
              "    <tr>\n",
              "      <th>oldpeak</th>\n",
              "      <td>303.0</td>\n",
              "      <td>1.039604</td>\n",
              "      <td>1.161075</td>\n",
              "      <td>0.0</td>\n",
              "      <td>0.0</td>\n",
              "      <td>0.8</td>\n",
              "      <td>1.6</td>\n",
              "      <td>6.2</td>\n",
              "    </tr>\n",
              "    <tr>\n",
              "      <th>slope</th>\n",
              "      <td>303.0</td>\n",
              "      <td>1.399340</td>\n",
              "      <td>0.616226</td>\n",
              "      <td>0.0</td>\n",
              "      <td>1.0</td>\n",
              "      <td>1.0</td>\n",
              "      <td>2.0</td>\n",
              "      <td>2.0</td>\n",
              "    </tr>\n",
              "    <tr>\n",
              "      <th>ca</th>\n",
              "      <td>303.0</td>\n",
              "      <td>0.729373</td>\n",
              "      <td>1.022606</td>\n",
              "      <td>0.0</td>\n",
              "      <td>0.0</td>\n",
              "      <td>0.0</td>\n",
              "      <td>1.0</td>\n",
              "      <td>4.0</td>\n",
              "    </tr>\n",
              "    <tr>\n",
              "      <th>thal</th>\n",
              "      <td>303.0</td>\n",
              "      <td>2.313531</td>\n",
              "      <td>0.612277</td>\n",
              "      <td>0.0</td>\n",
              "      <td>2.0</td>\n",
              "      <td>2.0</td>\n",
              "      <td>3.0</td>\n",
              "      <td>3.0</td>\n",
              "    </tr>\n",
              "    <tr>\n",
              "      <th>target</th>\n",
              "      <td>303.0</td>\n",
              "      <td>0.544554</td>\n",
              "      <td>0.498835</td>\n",
              "      <td>0.0</td>\n",
              "      <td>0.0</td>\n",
              "      <td>1.0</td>\n",
              "      <td>1.0</td>\n",
              "      <td>1.0</td>\n",
              "    </tr>\n",
              "  </tbody>\n",
              "</table>\n",
              "</div>"
            ],
            "text/plain": [
              "          count        mean        std    min    25%    50%    75%    max\n",
              "age       303.0   54.366337   9.082101   29.0   47.5   55.0   61.0   77.0\n",
              "sex       303.0    0.683168   0.466011    0.0    0.0    1.0    1.0    1.0\n",
              "cp        303.0    0.966997   1.032052    0.0    0.0    1.0    2.0    3.0\n",
              "trestbps  303.0  131.623762  17.538143   94.0  120.0  130.0  140.0  200.0\n",
              "chol      303.0  246.264026  51.830751  126.0  211.0  240.0  274.5  564.0\n",
              "fbs       303.0    0.148515   0.356198    0.0    0.0    0.0    0.0    1.0\n",
              "restecg   303.0    0.528053   0.525860    0.0    0.0    1.0    1.0    2.0\n",
              "thalach   303.0  149.646865  22.905161   71.0  133.5  153.0  166.0  202.0\n",
              "exang     303.0    0.326733   0.469794    0.0    0.0    0.0    1.0    1.0\n",
              "oldpeak   303.0    1.039604   1.161075    0.0    0.0    0.8    1.6    6.2\n",
              "slope     303.0    1.399340   0.616226    0.0    1.0    1.0    2.0    2.0\n",
              "ca        303.0    0.729373   1.022606    0.0    0.0    0.0    1.0    4.0\n",
              "thal      303.0    2.313531   0.612277    0.0    2.0    2.0    3.0    3.0\n",
              "target    303.0    0.544554   0.498835    0.0    0.0    1.0    1.0    1.0"
            ]
          },
          "metadata": {},
          "execution_count": 7
        }
      ]
    },
    {
      "cell_type": "code",
      "metadata": {
        "execution": {
          "iopub.execute_input": "2021-10-20T22:00:39.007712Z",
          "iopub.status.busy": "2021-10-20T22:00:39.007008Z",
          "iopub.status.idle": "2021-10-20T22:00:39.013590Z",
          "shell.execute_reply": "2021-10-20T22:00:39.014171Z",
          "shell.execute_reply.started": "2021-10-20T21:38:02.545485Z"
        },
        "papermill": {
          "duration": 0.051239,
          "end_time": "2021-10-20T22:00:39.014363",
          "exception": false,
          "start_time": "2021-10-20T22:00:38.963124",
          "status": "completed"
        },
        "tags": [],
        "colab": {
          "base_uri": "https://localhost:8080/"
        },
        "id": "06894ec5",
        "outputId": "88b8a19f-8c9e-4252-e9b6-adf5f45ee370"
      },
      "source": [
        "df.isnull().sum()"
      ],
      "id": "06894ec5",
      "execution_count": 8,
      "outputs": [
        {
          "output_type": "execute_result",
          "data": {
            "text/plain": [
              "age         0\n",
              "sex         0\n",
              "cp          0\n",
              "trestbps    0\n",
              "chol        0\n",
              "fbs         0\n",
              "restecg     0\n",
              "thalach     0\n",
              "exang       0\n",
              "oldpeak     0\n",
              "slope       0\n",
              "ca          0\n",
              "thal        0\n",
              "target      0\n",
              "dtype: int64"
            ]
          },
          "metadata": {},
          "execution_count": 8
        }
      ]
    },
    {
      "cell_type": "markdown",
      "metadata": {
        "papermill": {
          "duration": 0.040403,
          "end_time": "2021-10-20T22:00:39.096093",
          "exception": false,
          "start_time": "2021-10-20T22:00:39.055690",
          "status": "completed"
        },
        "tags": [],
        "id": "ff8f99b6"
      },
      "source": [
        "# Data Analysis and Visualization"
      ],
      "id": "ff8f99b6"
    },
    {
      "cell_type": "code",
      "metadata": {
        "execution": {
          "iopub.execute_input": "2021-10-20T22:00:39.181004Z",
          "iopub.status.busy": "2021-10-20T22:00:39.180295Z",
          "iopub.status.idle": "2021-10-20T22:00:39.421546Z",
          "shell.execute_reply": "2021-10-20T22:00:39.420994Z",
          "shell.execute_reply.started": "2021-10-20T21:38:10.903413Z"
        },
        "papermill": {
          "duration": 0.284512,
          "end_time": "2021-10-20T22:00:39.421708",
          "exception": false,
          "start_time": "2021-10-20T22:00:39.137196",
          "status": "completed"
        },
        "tags": [],
        "colab": {
          "base_uri": "https://localhost:8080/",
          "height": 350
        },
        "id": "0d77c727",
        "outputId": "7a9a0b43-79ac-4e94-d289-b8ef637107b2"
      },
      "source": [
        "pd.crosstab(df.target, df.sex).plot(figsize=(8,5), kind='bar', color=['salmon','lightblue'])\n",
        "plt.title(\"Heart Diesase Frequency for sex\")\n",
        "plt.xlabel(\"0 = No Diesase , 1 = Diesase\")\n",
        "plt.ylabel(\"Amount\")\n",
        "plt.legend([\"Female\", \"Male\"])\n",
        "plt.xticks(rotation=0)\n",
        "plt.show()"
      ],
      "id": "0d77c727",
      "execution_count": 9,
      "outputs": [
        {
          "output_type": "display_data",
          "data": {
            "image/png": "[encoded data removed]",
            "text/plain": [
              "<Figure size 576x360 with 1 Axes>"
            ]
          },
          "metadata": {
            "needs_background": "light"
          }
        }
      ]
    },
    {
      "cell_type": "code",
      "metadata": {
        "execution": {
          "iopub.execute_input": "2021-10-20T22:00:39.512367Z",
          "iopub.status.busy": "2021-10-20T22:00:39.509208Z",
          "iopub.status.idle": "2021-10-20T22:00:40.220291Z",
          "shell.execute_reply": "2021-10-20T22:00:40.220847Z",
          "shell.execute_reply.started": "2021-10-20T21:38:15.209595Z"
        },
        "papermill": {
          "duration": 0.757191,
          "end_time": "2021-10-20T22:00:40.221020",
          "exception": false,
          "start_time": "2021-10-20T22:00:39.463829",
          "status": "completed"
        },
        "tags": [],
        "colab": {
          "base_uri": "https://localhost:8080/",
          "height": 404
        },
        "id": "fcd14a61",
        "outputId": "41a1970a-0e33-459e-d861-3f4c6e62105d"
      },
      "source": [
        "pd.crosstab(df.age, df.target).plot(figsize=(15,6), kind='bar', color=['lightblue', 'salmon'])\n",
        "plt.title(\"Heart Diesase Frequency for age\")\n",
        "plt.xlabel(\"Age\")\n",
        "plt.ylabel(\"Amount\")\n",
        "plt.legend([\"No Diesase\", \"Diesase\"])\n",
        "plt.xticks(rotation=0)\n",
        "plt.show()"
      ],
      "id": "fcd14a61",
      "execution_count": 10,
      "outputs": [
        {
          "output_type": "display_data",
          "data": {
            "image/png": "[encoded data removed]",
            "text/plain": [
              "<Figure size 1080x432 with 1 Axes>"
            ]
          },
          "metadata": {
            "needs_background": "light"
          }
        }
      ]
    },
    {
      "cell_type": "code",
      "metadata": {
        "execution": {
          "iopub.execute_input": "2021-10-20T22:00:40.310560Z",
          "iopub.status.busy": "2021-10-20T22:00:40.309542Z",
          "iopub.status.idle": "2021-10-20T22:00:40.514024Z",
          "shell.execute_reply": "2021-10-20T22:00:40.514607Z",
          "shell.execute_reply.started": "2021-10-20T21:38:19.650897Z"
        },
        "papermill": {
          "duration": 0.251245,
          "end_time": "2021-10-20T22:00:40.514791",
          "exception": false,
          "start_time": "2021-10-20T22:00:40.263546",
          "status": "completed"
        },
        "tags": [],
        "colab": {
          "base_uri": "https://localhost:8080/",
          "height": 404
        },
        "id": "7a9bf161",
        "outputId": "33d0bffb-4786-4778-cfc2-6b3c9c71452f"
      },
      "source": [
        "pd.crosstab(df.cp, df.target).plot(figsize=(10,6), kind='bar', color=['lightblue', 'salmon'])\n",
        "plt.title(\"Heart Diesase Frequency per chest pain type\")\n",
        "plt.xlabel(\"Chest Pain Type\")\n",
        "plt.ylabel(\"Amount\")\n",
        "plt.legend([\"No Diesase\", \"Diesase\"])\n",
        "plt.xticks(rotation=0)\n",
        "plt.show()"
      ],
      "id": "7a9bf161",
      "execution_count": 11,
      "outputs": [
        {
          "output_type": "display_data",
          "data": {
            "image/png": "[encoded data removed]",
            "text/plain": [
              "<Figure size 720x432 with 1 Axes>"
            ]
          },
          "metadata": {
            "needs_background": "light"
          }
        }
      ]
    },
    {
      "cell_type": "code",
      "metadata": {
        "execution": {
          "iopub.execute_input": "2021-10-20T22:00:40.605686Z",
          "iopub.status.busy": "2021-10-20T22:00:40.604640Z",
          "iopub.status.idle": "2021-10-20T22:00:40.799572Z",
          "shell.execute_reply": "2021-10-20T22:00:40.798958Z",
          "shell.execute_reply.started": "2021-10-20T21:38:25.262486Z"
        },
        "papermill": {
          "duration": 0.241621,
          "end_time": "2021-10-20T22:00:40.799718",
          "exception": false,
          "start_time": "2021-10-20T22:00:40.558097",
          "status": "completed"
        },
        "tags": [],
        "colab": {
          "base_uri": "https://localhost:8080/",
          "height": 404
        },
        "id": "b68be607",
        "outputId": "8101c77f-84b4-4986-dba7-fbcd817305cf"
      },
      "source": [
        "pd.crosstab(df.fbs, df.target).plot(figsize=(10,6), kind='bar', color=['lightblue', 'salmon'])\n",
        "plt.title(\"Heart Diesase Frequency for fbs\")\n",
        "plt.xlabel(\"fasting blood sugar\") #(1 = true , 0 = false)\n",
        "plt.ylabel(\"Amount\")\n",
        "plt.legend([\"No Diesase\", \"Diesase\"])\n",
        "plt.xticks(rotation=0)\n",
        "plt.show()"
      ],
      "id": "b68be607",
      "execution_count": 12,
      "outputs": [
        {
          "output_type": "display_data",
          "data": {
            "image/png": "[encoded data removed]",
            "text/plain": [
              "<Figure size 720x432 with 1 Axes>"
            ]
          },
          "metadata": {
            "needs_background": "light"
          }
        }
      ]
    },
    {
      "cell_type": "code",
      "metadata": {
        "execution": {
          "iopub.execute_input": "2021-10-20T22:00:40.896309Z",
          "iopub.status.busy": "2021-10-20T22:00:40.895607Z",
          "iopub.status.idle": "2021-10-20T22:00:41.088754Z",
          "shell.execute_reply": "2021-10-20T22:00:41.087805Z",
          "shell.execute_reply.started": "2021-10-20T21:38:30.159127Z"
        },
        "papermill": {
          "duration": 0.243707,
          "end_time": "2021-10-20T22:00:41.088906",
          "exception": false,
          "start_time": "2021-10-20T22:00:40.845199",
          "status": "completed"
        },
        "tags": [],
        "colab": {
          "base_uri": "https://localhost:8080/",
          "height": 404
        },
        "id": "e64f5dac",
        "outputId": "bce5e986-5c19-4fc2-8d13-6adcf3b140bb"
      },
      "source": [
        "pd.crosstab(df.restecg, df.target).plot(figsize=(10,6), kind='bar', color=['lightblue', 'salmon'])\n",
        "plt.title(\"Heart Diesase Frequency per restecg type\")\n",
        "plt.xlabel(\"Resting Electrocardiographic\")\n",
        "plt.ylabel(\"Amount\")\n",
        "plt.legend([\"No Diesase\", \"Diesase\"])\n",
        "plt.xticks(rotation=0)\n",
        "plt.show()"
      ],
      "id": "e64f5dac",
      "execution_count": 13,
      "outputs": [
        {
          "output_type": "display_data",
          "data": {
            "image/png": "[encoded data removed]",
            "text/plain": [
              "<Figure size 720x432 with 1 Axes>"
            ]
          },
          "metadata": {
            "needs_background": "light"
          }
        }
      ]
    },
    {
      "cell_type": "code",
      "metadata": {
        "execution": {
          "iopub.execute_input": "2021-10-20T22:00:41.181249Z",
          "iopub.status.busy": "2021-10-20T22:00:41.180593Z",
          "iopub.status.idle": "2021-10-20T22:00:41.377981Z",
          "shell.execute_reply": "2021-10-20T22:00:41.377392Z",
          "shell.execute_reply.started": "2021-10-20T21:38:34.991319Z"
        },
        "papermill": {
          "duration": 0.244496,
          "end_time": "2021-10-20T22:00:41.378124",
          "exception": false,
          "start_time": "2021-10-20T22:00:41.133628",
          "status": "completed"
        },
        "tags": [],
        "colab": {
          "base_uri": "https://localhost:8080/",
          "height": 404
        },
        "id": "fd913d74",
        "outputId": "b0cfb582-ac46-4416-9b45-4c40f4e43d2a"
      },
      "source": [
        "pd.crosstab(df.exang, df.target).plot(figsize=(10,6), kind='bar', color=['lightblue', 'salmon'])\n",
        "plt.title(\"Heart Diesase Frequency for exang\")\n",
        "plt.xlabel(\"exercise induced angina\")\n",
        "plt.ylabel(\"Amount\")\n",
        "plt.legend([\"No Diesase\", \"Diesase\"])\n",
        "plt.xticks(rotation=0)\n",
        "plt.show()"
      ],
      "id": "fd913d74",
      "execution_count": 14,
      "outputs": [
        {
          "output_type": "display_data",
          "data": {
            "image/png": "[encoded data removed]",
            "text/plain": [
              "<Figure size 720x432 with 1 Axes>"
            ]
          },
          "metadata": {
            "needs_background": "light"
          }
        }
      ]
    },
    {
      "cell_type": "code",
      "metadata": {
        "execution": {
          "iopub.execute_input": "2021-10-20T22:00:41.474410Z",
          "iopub.status.busy": "2021-10-20T22:00:41.473415Z",
          "iopub.status.idle": "2021-10-20T22:00:41.674203Z",
          "shell.execute_reply": "2021-10-20T22:00:41.673592Z",
          "shell.execute_reply.started": "2021-10-20T21:38:42.757198Z"
        },
        "papermill": {
          "duration": 0.249414,
          "end_time": "2021-10-20T22:00:41.674362",
          "exception": false,
          "start_time": "2021-10-20T22:00:41.424948",
          "status": "completed"
        },
        "tags": [],
        "colab": {
          "base_uri": "https://localhost:8080/",
          "height": 404
        },
        "id": "e41e186f",
        "outputId": "e1d126c9-b85e-4bae-9dc2-d777b1f597c1"
      },
      "source": [
        "pd.crosstab(df.slope, df.target).plot(figsize=(10,6), kind='bar', color=['lightblue', 'salmon'])\n",
        "plt.title(\"Heart Diesase Frequency for slope\")\n",
        "plt.xlabel(\"Slope of the peak exercise ST segment\")\n",
        "plt.ylabel(\"Amount\")\n",
        "plt.legend([\"No Diesase\", \"Diesase\"])\n",
        "plt.xticks(rotation=0)\n",
        "plt.show()"
      ],
      "id": "e41e186f",
      "execution_count": 15,
      "outputs": [
        {
          "output_type": "display_data",
          "data": {
            "image/png": "[encoded data removed]",
            "text/plain": [
              "<Figure size 720x432 with 1 Axes>"
            ]
          },
          "metadata": {
            "needs_background": "light"
          }
        }
      ]
    },
    {
      "cell_type": "code",
      "metadata": {
        "execution": {
          "iopub.execute_input": "2021-10-20T22:00:41.778445Z",
          "iopub.status.busy": "2021-10-20T22:00:41.776550Z",
          "iopub.status.idle": "2021-10-20T22:00:41.990107Z",
          "shell.execute_reply": "2021-10-20T22:00:41.989292Z",
          "shell.execute_reply.started": "2021-10-20T21:38:46.293187Z"
        },
        "papermill": {
          "duration": 0.269414,
          "end_time": "2021-10-20T22:00:41.990294",
          "exception": false,
          "start_time": "2021-10-20T22:00:41.720880",
          "status": "completed"
        },
        "tags": [],
        "colab": {
          "base_uri": "https://localhost:8080/",
          "height": 404
        },
        "id": "f9507c66",
        "outputId": "461a6bb6-f3bd-4352-e57b-d9e03c92e118"
      },
      "source": [
        "pd.crosstab(df.ca, df.target).plot(figsize=(10,6), kind='bar', color=['lightblue', 'salmon'])\n",
        "plt.title(\"Heart Diesase Frequency for ca\")\n",
        "plt.xlabel(\"number of major vessels\")\n",
        "plt.ylabel(\"Amount\")\n",
        "plt.legend([\"No Diesase\", \"Diesase\"])\n",
        "plt.xticks(rotation=0)\n",
        "plt.show()"
      ],
      "id": "f9507c66",
      "execution_count": 16,
      "outputs": [
        {
          "output_type": "display_data",
          "data": {
            "image/png": "[encoded data removed]",
            "text/plain": [
              "<Figure size 720x432 with 1 Axes>"
            ]
          },
          "metadata": {
            "needs_background": "light"
          }
        }
      ]
    },
    {
      "cell_type": "code",
      "metadata": {
        "execution": {
          "iopub.execute_input": "2021-10-20T22:00:42.090976Z",
          "iopub.status.busy": "2021-10-20T22:00:42.089987Z",
          "iopub.status.idle": "2021-10-20T22:00:42.300133Z",
          "shell.execute_reply": "2021-10-20T22:00:42.300697Z",
          "shell.execute_reply.started": "2021-10-20T21:38:50.775474Z"
        },
        "papermill": {
          "duration": 0.262833,
          "end_time": "2021-10-20T22:00:42.300877",
          "exception": false,
          "start_time": "2021-10-20T22:00:42.038044",
          "status": "completed"
        },
        "tags": [],
        "colab": {
          "base_uri": "https://localhost:8080/",
          "height": 350
        },
        "id": "d86db9c4",
        "outputId": "312e84c0-e770-46c4-c0dc-de431db9cba8"
      },
      "source": [
        "pd.crosstab(df.thal, df.target).plot(figsize=(10,5), kind='bar', color=['lightblue', 'salmon'])\n",
        "plt.title(\"Heart Diesase Frequency for thal\")\n",
        "plt.xlabel(\"thal\")\n",
        "plt.ylabel(\"Amount\")\n",
        "plt.legend([\"No Diesase\", \"Diesase\"])\n",
        "plt.xticks(rotation=0)\n",
        "plt.show()"
      ],
      "id": "d86db9c4",
      "execution_count": 17,
      "outputs": [
        {
          "output_type": "display_data",
          "data": {
            "image/png": "[encoded data removed]",
            "text/plain": [
              "<Figure size 720x360 with 1 Axes>"
            ]
          },
          "metadata": {
            "needs_background": "light"
          }
        }
      ]
    },
    {
      "cell_type": "code",
      "metadata": {
        "execution": {
          "iopub.execute_input": "2021-10-20T22:00:42.403880Z",
          "iopub.status.busy": "2021-10-20T22:00:42.402847Z",
          "iopub.status.idle": "2021-10-20T22:00:43.913826Z",
          "shell.execute_reply": "2021-10-20T22:00:43.914325Z",
          "shell.execute_reply.started": "2021-10-20T21:38:57.383068Z"
        },
        "papermill": {
          "duration": 1.564751,
          "end_time": "2021-10-20T22:00:43.914492",
          "exception": false,
          "start_time": "2021-10-20T22:00:42.349741",
          "status": "completed"
        },
        "tags": [],
        "colab": {
          "base_uri": "https://localhost:8080/",
          "height": 592
        },
        "id": "a78c5741",
        "outputId": "8119844e-c8cd-4721-e1b8-43ad74a41d37"
      },
      "source": [
        "plt.subplots(figsize=(15,10))\n",
        "mask = np.zeros_like(df.corr())\n",
        "mask[np.triu_indices_from(mask)] = True\n",
        "sns.heatmap(df.corr(), mask = mask, annot=True, linewidths = 0.5, cmap='Reds');"
      ],
      "id": "a78c5741",
      "execution_count": 20,
      "outputs": [
        {
          "output_type": "display_data",
          "data": {
            "image/png": "[encoded data removed]",
            "text/plain": [
              "<Figure size 1080x720 with 2 Axes>"
            ]
          },
          "metadata": {
            "needs_background": "light"
          }
        }
      ]
    },
    {
      "cell_type": "code",
      "metadata": {
        "execution": {
          "iopub.execute_input": "2021-10-20T22:00:44.024478Z",
          "iopub.status.busy": "2021-10-20T22:00:44.023816Z",
          "iopub.status.idle": "2021-10-20T22:00:44.026271Z",
          "shell.execute_reply": "2021-10-20T22:00:44.026764Z",
          "shell.execute_reply.started": "2021-10-20T21:39:03.478178Z"
        },
        "papermill": {
          "duration": 0.061188,
          "end_time": "2021-10-20T22:00:44.026926",
          "exception": false,
          "start_time": "2021-10-20T22:00:43.965738",
          "status": "completed"
        },
        "tags": [],
        "colab": {
          "base_uri": "https://localhost:8080/"
        },
        "id": "2a1c6af2",
        "outputId": "6f885312-c537-4568-e705-fcd55b71e857"
      },
      "source": [
        "df.isnull().sum()"
      ],
      "id": "2a1c6af2",
      "execution_count": 21,
      "outputs": [
        {
          "output_type": "execute_result",
          "data": {
            "text/plain": [
              "age         0\n",
              "sex         0\n",
              "cp          0\n",
              "trestbps    0\n",
              "chol        0\n",
              "fbs         0\n",
              "restecg     0\n",
              "thalach     0\n",
              "exang       0\n",
              "oldpeak     0\n",
              "slope       0\n",
              "ca          0\n",
              "thal        0\n",
              "target      0\n",
              "dtype: int64"
            ]
          },
          "metadata": {},
          "execution_count": 21
        }
      ]
    },
    {
      "cell_type": "code",
      "metadata": {
        "execution": {
          "iopub.execute_input": "2021-10-20T22:00:44.140346Z",
          "iopub.status.busy": "2021-10-20T22:00:44.137025Z",
          "iopub.status.idle": "2021-10-20T22:00:44.142103Z",
          "shell.execute_reply": "2021-10-20T22:00:44.142689Z",
          "shell.execute_reply.started": "2021-10-20T21:39:06.633434Z"
        },
        "papermill": {
          "duration": 0.063188,
          "end_time": "2021-10-20T22:00:44.142853",
          "exception": false,
          "start_time": "2021-10-20T22:00:44.079665",
          "status": "completed"
        },
        "tags": [],
        "id": "2cf4db90"
      },
      "source": [
        "numerical_colms = ['age', 'sex', 'cp', 'trestbps', 'chol', 'fbs', 'restecg', 'thalach',\n",
        "                   'exang', 'oldpeak', 'slope', 'ca', 'thal', 'target']\n",
        "                   \n",
        "for col in numerical_colms:\n",
        "    df[col] = pd.to_numeric(df[col], errors='coerce')"
      ],
      "id": "2cf4db90",
      "execution_count": 22,
      "outputs": []
    },
    {
      "cell_type": "markdown",
      "metadata": {
        "papermill": {
          "duration": 0.051675,
          "end_time": "2021-10-20T22:00:44.245754",
          "exception": false,
          "start_time": "2021-10-20T22:00:44.194079",
          "status": "completed"
        },
        "tags": [],
        "id": "11b30bff"
      },
      "source": [
        "# Split data into train and test sets"
      ],
      "id": "11b30bff"
    },
    {
      "cell_type": "code",
      "metadata": {
        "execution": {
          "iopub.execute_input": "2021-10-20T22:00:44.352959Z",
          "iopub.status.busy": "2021-10-20T22:00:44.352332Z",
          "iopub.status.idle": "2021-10-20T22:00:44.359815Z",
          "shell.execute_reply": "2021-10-20T22:00:44.360437Z",
          "shell.execute_reply.started": "2021-10-20T21:39:10.253246Z"
        },
        "papermill": {
          "duration": 0.063433,
          "end_time": "2021-10-20T22:00:44.360604",
          "exception": false,
          "start_time": "2021-10-20T22:00:44.297171",
          "status": "completed"
        },
        "tags": [],
        "id": "04e4f5e1"
      },
      "source": [
        "x_data = df.iloc[:,:13]\n",
        "y_data = df.iloc[:, -1]\n",
        "\n",
        "X_train, X_test, y_train, y_test = train_test_split(x_data, y_data, test_size=0.2, random_state=5)"
      ],
      "id": "04e4f5e1",
      "execution_count": 24,
      "outputs": []
    },
    {
      "cell_type": "markdown",
      "metadata": {
        "papermill": {
          "duration": 0.051708,
          "end_time": "2021-10-20T22:00:44.463810",
          "exception": false,
          "start_time": "2021-10-20T22:00:44.412102",
          "status": "completed"
        },
        "tags": [],
        "id": "98456213"
      },
      "source": [
        "# Feature Scaling"
      ],
      "id": "98456213"
    },
    {
      "cell_type": "code",
      "metadata": {
        "execution": {
          "iopub.execute_input": "2021-10-20T22:00:44.574983Z",
          "iopub.status.busy": "2021-10-20T22:00:44.573924Z",
          "iopub.status.idle": "2021-10-20T22:00:44.581422Z",
          "shell.execute_reply": "2021-10-20T22:00:44.580870Z",
          "shell.execute_reply.started": "2021-10-20T21:39:13.390251Z"
        },
        "papermill": {
          "duration": 0.066143,
          "end_time": "2021-10-20T22:00:44.581566",
          "exception": false,
          "start_time": "2021-10-20T22:00:44.515423",
          "status": "completed"
        },
        "tags": [],
        "id": "866a0d8f"
      },
      "source": [
        "scaler  = StandardScaler()\n",
        "X_train = scaler.fit_transform(X_train)\n",
        "X_test  = scaler.transform(X_test)"
      ],
      "id": "866a0d8f",
      "execution_count": 25,
      "outputs": []
    },
    {
      "cell_type": "markdown",
      "metadata": {
        "papermill": {
          "duration": 0.051412,
          "end_time": "2021-10-20T22:00:44.684832",
          "exception": false,
          "start_time": "2021-10-20T22:00:44.633420",
          "status": "completed"
        },
        "tags": [],
        "id": "f7b5b741"
      },
      "source": [
        "# Machine Learning - Training Models\n",
        "#### We are going to try 6 different machine learning models:\n",
        "- LogisticRegression\n",
        "- SVC\n",
        "- KNeighborsClassifier\n",
        "- RandomForestClassifier"
      ],
      "id": "f7b5b741"
    },
    {
      "cell_type": "code",
      "metadata": {
        "execution": {
          "iopub.execute_input": "2021-10-20T22:00:44.791427Z",
          "iopub.status.busy": "2021-10-20T22:00:44.790790Z",
          "iopub.status.idle": "2021-10-20T22:00:44.794724Z",
          "shell.execute_reply": "2021-10-20T22:00:44.795261Z",
          "shell.execute_reply.started": "2021-10-20T21:39:17.558014Z"
        },
        "papermill": {
          "duration": 0.05868,
          "end_time": "2021-10-20T22:00:44.795426",
          "exception": false,
          "start_time": "2021-10-20T22:00:44.736746",
          "status": "completed"
        },
        "tags": [],
        "id": "834fcb12"
      },
      "source": [
        "models = {\n",
        "    'LR'   : LogisticRegression(),\n",
        "    'SVC'  : SVC(),\n",
        "    'KNNC' : KNeighborsClassifier(),\n",
        "    'RFC'  : RandomForestClassifier(),\n",
        "}   "
      ],
      "id": "834fcb12",
      "execution_count": 26,
      "outputs": []
    },
    {
      "cell_type": "code",
      "metadata": {
        "execution": {
          "iopub.execute_input": "2021-10-20T22:00:44.901922Z",
          "iopub.status.busy": "2021-10-20T22:00:44.901297Z",
          "iopub.status.idle": "2021-10-20T22:00:44.905024Z",
          "shell.execute_reply": "2021-10-20T22:00:44.905539Z",
          "shell.execute_reply.started": "2021-10-20T21:39:24.268750Z"
        },
        "papermill": {
          "duration": 0.058537,
          "end_time": "2021-10-20T22:00:44.905707",
          "exception": false,
          "start_time": "2021-10-20T22:00:44.847170",
          "status": "completed"
        },
        "tags": [],
        "id": "6420dabb"
      },
      "source": [
        "models_name = list(models.keys())\n",
        "accuracy_values = list()"
      ],
      "id": "6420dabb",
      "execution_count": 27,
      "outputs": []
    },
    {
      "cell_type": "code",
      "metadata": {
        "execution": {
          "iopub.execute_input": "2021-10-20T22:00:45.012762Z",
          "iopub.status.busy": "2021-10-20T22:00:45.012043Z",
          "iopub.status.idle": "2021-10-20T22:00:45.285484Z",
          "shell.execute_reply": "2021-10-20T22:00:45.286091Z",
          "shell.execute_reply.started": "2021-10-20T21:39:27.793241Z"
        },
        "papermill": {
          "duration": 0.329209,
          "end_time": "2021-10-20T22:00:45.286293",
          "exception": false,
          "start_time": "2021-10-20T22:00:44.957084",
          "status": "completed"
        },
        "tags": [],
        "colab": {
          "base_uri": "https://localhost:8080/"
        },
        "id": "290f694e",
        "outputId": "6f5b9b86-cbfa-4f54-9cd1-91ef96d29481"
      },
      "source": [
        "for name, model in models.items():\n",
        "    print(f'Model name: {name}')\n",
        "    model.fit(X_train, y_train)\n",
        "    print(f'Train score : {model.score(X_train, y_train)}')\n",
        "    print(f'Test score : {model.score(X_test, y_test)}')\n",
        "    accuracy_values.append(model.score(X_test, y_test))\n",
        "    print('-' * 30)"
      ],
      "id": "290f694e",
      "execution_count": 28,
      "outputs": [
        {
          "output_type": "stream",
          "name": "stdout",
          "text": [
            "Model name: LR\n",
            "Train score : 0.8223140495867769\n",
            "Test score : 0.8852459016393442\n",
            "------------------------------\n",
            "Model name: SVC\n",
            "Train score : 0.9090909090909091\n",
            "Test score : 0.8524590163934426\n",
            "------------------------------\n",
            "Model name: KNNC\n",
            "Train score : 0.8636363636363636\n",
            "Test score : 0.8688524590163934\n",
            "------------------------------\n",
            "Model name: RFC\n",
            "Train score : 1.0\n",
            "Test score : 0.9016393442622951\n",
            "------------------------------\n"
          ]
        }
      ]
    },
    {
      "cell_type": "markdown",
      "metadata": {
        "papermill": {
          "duration": 0.052302,
          "end_time": "2021-10-20T22:00:45.391569",
          "exception": false,
          "start_time": "2021-10-20T22:00:45.339267",
          "status": "completed"
        },
        "tags": [],
        "id": "c4a40780"
      },
      "source": [
        "# Hyperparameter tuning with RandomizedSearchCV\n",
        "#### We are going to tune:\n",
        "* LogisticRegression\n",
        "* RandomForestClassifier\n",
        "* SVC"
      ],
      "id": "c4a40780"
    },
    {
      "cell_type": "code",
      "metadata": {
        "execution": {
          "iopub.execute_input": "2021-10-20T22:00:45.500012Z",
          "iopub.status.busy": "2021-10-20T22:00:45.499375Z",
          "iopub.status.idle": "2021-10-20T22:00:48.371130Z",
          "shell.execute_reply": "2021-10-20T22:00:48.371855Z",
          "shell.execute_reply.started": "2021-10-20T21:43:34.046370Z"
        },
        "papermill": {
          "duration": 2.928196,
          "end_time": "2021-10-20T22:00:48.372082",
          "exception": false,
          "start_time": "2021-10-20T22:00:45.443886",
          "status": "completed"
        },
        "tags": [],
        "colab": {
          "base_uri": "https://localhost:8080/"
        },
        "id": "68dc4ff8",
        "outputId": "4550faaf-9fed-4d0a-9e24-7a136c18afc9"
      },
      "source": [
        "lgr_grid = {\"solver\":['liblinear','lbfgs'],\"C\": np.logspace(-1,1,20)}\n",
        "\n",
        "rs_lr = RandomizedSearchCV(LogisticRegression(), param_distributions=lgr_grid, cv=5, n_iter=20, verbose=True, n_jobs=-1)\n",
        "rs_lr.fit(X_train, y_train)\n",
        "\n",
        "print(rs_lr.best_params_)\n",
        "print(rs_lr.score(X_test, y_test))"
      ],
      "id": "68dc4ff8",
      "execution_count": 29,
      "outputs": [
        {
          "output_type": "stream",
          "name": "stdout",
          "text": [
            "Fitting 5 folds for each of 20 candidates, totalling 100 fits\n"
          ]
        },
        {
          "output_type": "stream",
          "name": "stderr",
          "text": [
            "[Parallel(n_jobs=-1)]: Using backend LokyBackend with 2 concurrent workers.\n"
          ]
        },
        {
          "output_type": "stream",
          "name": "stdout",
          "text": [
            "{'solver': 'liblinear', 'C': 0.8858667904100825}\n",
            "0.8852459016393442\n"
          ]
        },
        {
          "output_type": "stream",
          "name": "stderr",
          "text": [
            "[Parallel(n_jobs=-1)]: Done  90 tasks      | elapsed:    1.7s\n",
            "[Parallel(n_jobs=-1)]: Done 100 out of 100 | elapsed:    1.8s finished\n"
          ]
        }
      ]
    },
    {
      "cell_type": "code",
      "metadata": {
        "execution": {
          "iopub.execute_input": "2021-10-20T22:00:48.484112Z",
          "iopub.status.busy": "2021-10-20T22:00:48.483445Z",
          "iopub.status.idle": "2021-10-20T22:01:05.066244Z",
          "shell.execute_reply": "2021-10-20T22:01:05.065673Z",
          "shell.execute_reply.started": "2021-10-20T21:46:58.252101Z"
        },
        "papermill": {
          "duration": 16.639911,
          "end_time": "2021-10-20T22:01:05.066386",
          "exception": false,
          "start_time": "2021-10-20T22:00:48.426475",
          "status": "completed"
        },
        "tags": [],
        "colab": {
          "base_uri": "https://localhost:8080/"
        },
        "id": "d4558fa2",
        "outputId": "03b43ac8-364c-45a4-f751-16ad25a97764"
      },
      "source": [
        "rf_grid = {'bootstrap': [True, False],\n",
        "               'max_depth': [10,20,30,40,50, None],\n",
        "               'max_features': ['auto', 'sqrt'],\n",
        "               'min_samples_leaf': np.arange(2,20),\n",
        "               'min_samples_split': np.arange(2,20),\n",
        "               'n_estimators': np.arange(10,600,50)}\n",
        "\n",
        "rs_rf = RandomizedSearchCV(RandomForestClassifier(), param_distributions=rf_grid, cv=5,  n_iter=20, verbose=True, n_jobs=-1)\n",
        "rs_rf.fit(X_train, y_train)\n",
        "\n",
        "print(rs_rf.best_params_)\n",
        "print(rs_rf.score(X_test, y_test))"
      ],
      "id": "d4558fa2",
      "execution_count": 30,
      "outputs": [
        {
          "output_type": "stream",
          "name": "stdout",
          "text": [
            "Fitting 5 folds for each of 20 candidates, totalling 100 fits\n"
          ]
        },
        {
          "output_type": "stream",
          "name": "stderr",
          "text": [
            "[Parallel(n_jobs=-1)]: Using backend LokyBackend with 2 concurrent workers.\n",
            "[Parallel(n_jobs=-1)]: Done  46 tasks      | elapsed:   18.2s\n",
            "[Parallel(n_jobs=-1)]: Done 100 out of 100 | elapsed:   40.7s finished\n"
          ]
        },
        {
          "output_type": "stream",
          "name": "stdout",
          "text": [
            "{'n_estimators': 560, 'min_samples_split': 6, 'min_samples_leaf': 15, 'max_features': 'auto', 'max_depth': 30, 'bootstrap': False}\n",
            "0.8852459016393442\n"
          ]
        }
      ]
    },
    {
      "cell_type": "code",
      "metadata": {
        "execution": {
          "iopub.execute_input": "2021-10-20T22:01:05.186326Z",
          "iopub.status.busy": "2021-10-20T22:01:05.185284Z",
          "iopub.status.idle": "2021-10-20T22:01:05.791576Z",
          "shell.execute_reply": "2021-10-20T22:01:05.792181Z",
          "shell.execute_reply.started": "2021-10-20T21:47:31.609848Z"
        },
        "papermill": {
          "duration": 0.67047,
          "end_time": "2021-10-20T22:01:05.792383",
          "exception": false,
          "start_time": "2021-10-20T22:01:05.121913",
          "status": "completed"
        },
        "tags": [],
        "colab": {
          "base_uri": "https://localhost:8080/"
        },
        "id": "ab6cbf75",
        "outputId": "0c37ef21-c06b-4798-c29d-93f9623b005f"
      },
      "source": [
        "rs_svc_grid = {\"kernel\" : ['linear', 'poly', 'rbf', 'sigmoid'], 'C': [0.1,1, 10, 100], 'gamma': [1,0.1,0.01,0.001]}\n",
        "\n",
        "rs_svc = RandomizedSearchCV(SVC(), param_distributions=rs_svc_grid, cv=5, n_iter=20, verbose=True, n_jobs=-1)\n",
        "rs_svc.fit(X_train, y_train)\n",
        "\n",
        "print(rs_svc.best_params_)\n",
        "print(rs_svc.score(X_test, y_test))"
      ],
      "id": "ab6cbf75",
      "execution_count": 31,
      "outputs": [
        {
          "output_type": "stream",
          "name": "stdout",
          "text": [
            "Fitting 5 folds for each of 20 candidates, totalling 100 fits\n"
          ]
        },
        {
          "output_type": "stream",
          "name": "stderr",
          "text": [
            "[Parallel(n_jobs=-1)]: Using backend LokyBackend with 2 concurrent workers.\n"
          ]
        },
        {
          "output_type": "stream",
          "name": "stdout",
          "text": [
            "{'kernel': 'sigmoid', 'gamma': 0.01, 'C': 1}\n",
            "0.8852459016393442\n"
          ]
        },
        {
          "output_type": "stream",
          "name": "stderr",
          "text": [
            "[Parallel(n_jobs=-1)]: Done 100 out of 100 | elapsed:    1.4s finished\n"
          ]
        }
      ]
    },
    {
      "cell_type": "markdown",
      "metadata": {
        "id": "Iyv087vzr-Jn"
      },
      "source": [
        "#PCA"
      ],
      "id": "Iyv087vzr-Jn"
    },
    {
      "cell_type": "code",
      "metadata": {
        "id": "pXWkCm8Xr9Pf"
      },
      "source": [
        "from sklearn.decomposition import PCA"
      ],
      "id": "pXWkCm8Xr9Pf",
      "execution_count": 33,
      "outputs": []
    },
    {
      "cell_type": "code",
      "metadata": {
        "id": "S5U3zz62sLBh"
      },
      "source": [
        "pca = PCA(2)"
      ],
      "id": "S5U3zz62sLBh",
      "execution_count": 34,
      "outputs": []
    },
    {
      "cell_type": "code",
      "metadata": {
        "colab": {
          "base_uri": "https://localhost:8080/"
        },
        "id": "m2G2luBYsMTw",
        "outputId": "9620709f-b52c-4cb0-9e9c-12f901f3cea9"
      },
      "source": [
        "pca.fit(X_train)"
      ],
      "id": "m2G2luBYsMTw",
      "execution_count": 35,
      "outputs": [
        {
          "output_type": "execute_result",
          "data": {
            "text/plain": [
              "PCA(copy=True, iterated_power='auto', n_components=2, random_state=None,\n",
              "    svd_solver='auto', tol=0.0, whiten=False)"
            ]
          },
          "metadata": {},
          "execution_count": 35
        }
      ]
    },
    {
      "cell_type": "code",
      "metadata": {
        "colab": {
          "base_uri": "https://localhost:8080/"
        },
        "id": "sJ167m3WsPMp",
        "outputId": "d6de379e-9f6a-42bf-a525-edb19fa0df6b"
      },
      "source": [
        "pca.transform(X_train)"
      ],
      "id": "sJ167m3WsPMp",
      "execution_count": 36,
      "outputs": [
        {
          "output_type": "execute_result",
          "data": {
            "text/plain": [
              "array([[ 2.43058619e+00,  1.17329640e-01],\n",
              "       [ 1.91453362e+00,  3.40467628e-01],\n",
              "       [-8.56661923e-01,  2.03395339e+00],\n",
              "       [-8.04612986e-03, -7.85303579e-01],\n",
              "       [-1.71007984e+00,  2.75545225e-01],\n",
              "       [ 2.95980469e+00, -1.75441194e+00],\n",
              "       [-1.36226505e+00,  1.16919894e-01],\n",
              "       [-2.22675078e+00, -1.04929630e+00],\n",
              "       [ 2.02946931e+00, -2.00383896e+00],\n",
              "       [ 8.39518640e-01,  8.26571153e-01],\n",
              "       [ 7.45716167e-02, -6.75228010e-02],\n",
              "       [-1.69417955e+00,  7.11090781e-01],\n",
              "       [ 3.63184714e+00, -9.74550562e-01],\n",
              "       [ 3.11629900e+00, -9.03365064e-01],\n",
              "       [-2.64606750e+00, -1.44653713e+00],\n",
              "       [ 2.34317959e+00,  2.10990016e+00],\n",
              "       [-9.94885778e-02,  9.85693381e-01],\n",
              "       [-1.28249243e+00,  6.84369771e-01],\n",
              "       [-2.15434063e+00,  4.25207955e-01],\n",
              "       [-1.29107279e+00,  3.34368211e-02],\n",
              "       [-6.02991720e-01,  9.08911243e-01],\n",
              "       [-1.65994266e+00, -3.80577403e-01],\n",
              "       [-4.27905192e-01, -1.11743499e+00],\n",
              "       [-7.45141082e-01, -1.79659485e+00],\n",
              "       [-1.18852279e+00, -5.97613916e-01],\n",
              "       [ 1.92517752e+00,  6.15196060e-01],\n",
              "       [ 3.20661058e+00,  8.04149562e-01],\n",
              "       [-1.84318781e+00, -1.50307258e-01],\n",
              "       [ 1.38509026e+00, -1.80203073e+00],\n",
              "       [ 1.18538356e+00,  1.47655187e+00],\n",
              "       [-1.62614362e+00, -4.57533756e-01],\n",
              "       [-1.01716166e+00, -3.76877960e-01],\n",
              "       [ 3.42326526e+00, -9.19537128e-01],\n",
              "       [ 2.25132912e+00, -2.16478541e+00],\n",
              "       [-3.51341671e-01,  6.76104441e-01],\n",
              "       [ 7.74007296e-01,  3.57589312e+00],\n",
              "       [-5.10025244e-01,  2.43493816e+00],\n",
              "       [-6.83924387e-01, -5.74533113e-01],\n",
              "       [-2.30335383e+00, -3.62518624e-01],\n",
              "       [-7.87480114e-01, -1.61341096e+00],\n",
              "       [-1.78237300e+00, -3.13385774e-01],\n",
              "       [-1.23559094e+00,  6.26440999e-01],\n",
              "       [ 2.43096283e-02, -8.47315184e-01],\n",
              "       [ 2.79172767e+00, -9.94827539e-01],\n",
              "       [ 7.34460948e-01,  1.50439763e+00],\n",
              "       [-3.07925859e-01,  3.58323064e+00],\n",
              "       [-1.07930524e-01, -1.31072342e+00],\n",
              "       [ 1.64724890e+00, -2.52795493e-01],\n",
              "       [ 1.60556387e+00,  1.76291914e+00],\n",
              "       [ 2.38775362e+00,  2.45191843e+00],\n",
              "       [-3.73044467e-01, -1.24689743e-01],\n",
              "       [ 2.74009213e-01, -7.79767188e-01],\n",
              "       [ 1.52339888e+00, -7.95572178e-01],\n",
              "       [-5.48225576e-01,  1.99773881e+00],\n",
              "       [-2.26152812e+00,  4.74456979e-01],\n",
              "       [-1.25169689e-01,  1.98751873e+00],\n",
              "       [ 1.21827221e+00, -1.55111034e+00],\n",
              "       [-2.10070072e+00, -8.39738265e-01],\n",
              "       [ 4.34379102e-01, -8.06948762e-01],\n",
              "       [ 2.22896026e+00, -1.33458210e+00],\n",
              "       [-1.88295767e+00, -2.75102903e-01],\n",
              "       [-5.86747665e-01,  1.33924068e+00],\n",
              "       [ 2.05800249e+00,  1.85788453e+00],\n",
              "       [ 2.59332709e-01,  4.46724692e-02],\n",
              "       [ 1.55985574e+00, -1.25466611e+00],\n",
              "       [ 9.58401080e-01, -1.89634642e+00],\n",
              "       [-4.11883282e-01, -3.02357119e-01],\n",
              "       [ 1.77568653e+00, -2.62515391e-02],\n",
              "       [-1.21886885e+00, -1.01939831e+00],\n",
              "       [ 1.84081765e-01, -1.31955739e+00],\n",
              "       [-2.38488554e+00, -3.69642508e-02],\n",
              "       [ 1.56403825e+00,  8.15959706e-01],\n",
              "       [-1.30061532e+00,  5.37418135e-01],\n",
              "       [-2.06054348e+00, -7.75317781e-01],\n",
              "       [-6.66209846e-01, -1.92530237e+00],\n",
              "       [-2.12776520e-02, -5.68688700e-01],\n",
              "       [-1.78103004e+00, -9.54010962e-01],\n",
              "       [ 3.01503597e-01, -7.45341877e-03],\n",
              "       [ 2.64808492e+00, -1.46022343e+00],\n",
              "       [-1.56331902e+00, -6.03810545e-01],\n",
              "       [-4.29068101e-03, -2.99317032e-01],\n",
              "       [-1.39085489e+00, -2.38824234e-01],\n",
              "       [ 7.97948118e-01,  2.63766511e-01],\n",
              "       [ 5.25084088e-01,  1.32560757e+00],\n",
              "       [ 1.21526934e+00, -1.06469336e-01],\n",
              "       [-2.03063317e+00, -2.26844541e-01],\n",
              "       [ 1.23640623e-01,  3.21034889e+00],\n",
              "       [-8.86001495e-01,  1.93367483e+00],\n",
              "       [ 9.49568682e-01,  3.67668675e-01],\n",
              "       [-4.86508912e-01, -5.12649615e-01],\n",
              "       [-5.88138204e-01, -5.57464457e-01],\n",
              "       [-1.69672626e+00,  1.47407204e+00],\n",
              "       [-2.03563405e-01,  1.94640104e+00],\n",
              "       [ 5.63875037e-01,  1.57597231e+00],\n",
              "       [ 7.34452575e-01, -7.18740447e-01],\n",
              "       [-2.36523006e-01, -3.32319020e-01],\n",
              "       [-1.31518362e+00, -1.32991422e+00],\n",
              "       [-1.58608781e+00,  1.20652636e+00],\n",
              "       [ 9.84161582e-01,  3.18105226e+00],\n",
              "       [-1.58615027e+00,  1.27116155e+00],\n",
              "       [ 2.49219480e+00, -7.42974182e-01],\n",
              "       [ 7.95883857e-01,  1.09908784e+00],\n",
              "       [-3.50290749e-01, -5.64437802e-01],\n",
              "       [ 1.48239144e+00, -2.52856826e-01],\n",
              "       [-9.62709491e-01,  3.46584473e-01],\n",
              "       [-2.41662626e+00, -5.69668169e-01],\n",
              "       [-1.69286583e+00, -3.84951421e-01],\n",
              "       [-1.30173827e+00,  2.44800038e-01],\n",
              "       [-4.81091407e-01,  1.15989563e+00],\n",
              "       [ 4.30617557e+00, -1.47098747e+00],\n",
              "       [ 7.39408912e-01, -1.14774829e+00],\n",
              "       [-2.09237478e+00, -9.64134476e-01],\n",
              "       [-1.89757956e+00, -5.88246234e-01],\n",
              "       [ 1.89034928e+00, -9.61722998e-02],\n",
              "       [ 1.23499915e+00,  5.20809820e-01],\n",
              "       [-1.09184317e+00, -7.80072184e-01],\n",
              "       [-4.30320030e-01,  2.39674234e+00],\n",
              "       [-1.00415338e+00,  9.28384952e-01],\n",
              "       [ 5.75664150e-01,  8.93763667e-01],\n",
              "       [-3.32229575e+00, -1.19167575e+00],\n",
              "       [-9.65818944e-01, -2.04113731e-02],\n",
              "       [ 9.75423999e-01,  3.56898871e-01],\n",
              "       [-7.85445972e-01, -5.09490593e-01],\n",
              "       [-4.20685378e-01, -8.29193526e-02],\n",
              "       [ 1.57546640e+00, -5.66060319e-01],\n",
              "       [ 2.78286190e+00,  1.60047674e-01],\n",
              "       [-1.89210871e+00,  2.10285808e+00],\n",
              "       [ 8.00760655e-01, -2.90204595e+00],\n",
              "       [-4.87068974e-01, -7.72632588e-01],\n",
              "       [ 2.51028776e+00, -9.61438614e-01],\n",
              "       [-8.93634338e-01,  5.32197079e-01],\n",
              "       [-8.14274528e-01,  4.75167243e-03],\n",
              "       [-2.98214599e+00, -2.84537091e-01],\n",
              "       [-2.05241516e+00, -9.96076629e-01],\n",
              "       [-1.83832101e+00, -2.84576691e-02],\n",
              "       [ 1.24802507e+00,  4.19408667e-01],\n",
              "       [ 9.13018395e-01, -1.35330428e+00],\n",
              "       [ 8.09576213e-01,  1.07306428e-01],\n",
              "       [-4.13255809e-01, -4.98091882e-01],\n",
              "       [-3.15311961e+00, -8.86154359e-01],\n",
              "       [-1.16721724e+00,  1.14303131e+00],\n",
              "       [ 2.23366683e-02, -6.78839646e-01],\n",
              "       [-1.00503727e+00,  1.49254269e+00],\n",
              "       [ 5.66154040e-01,  5.49221304e-02],\n",
              "       [-2.81663853e-01,  9.98180941e-02],\n",
              "       [ 1.56469718e+00,  2.31036122e-01],\n",
              "       [ 4.97020599e-01,  1.55842257e+00],\n",
              "       [-1.94375159e-01, -2.12595949e-01],\n",
              "       [-4.26532047e-01,  1.01350786e-01],\n",
              "       [ 2.02314211e+00, -5.92966847e-01],\n",
              "       [-1.45064697e+00, -4.11384914e-01],\n",
              "       [ 1.88479841e+00, -1.10872055e+00],\n",
              "       [ 5.62414288e-01,  1.03404301e+00],\n",
              "       [ 5.67260058e-01, -1.15114923e+00],\n",
              "       [ 2.31996873e+00, -1.36996866e+00],\n",
              "       [ 2.16157215e+00,  1.81759035e+00],\n",
              "       [ 3.51278327e+00,  5.62283306e-01],\n",
              "       [-1.41746889e+00, -1.77192391e+00],\n",
              "       [-8.62483474e-01,  9.12286763e-01],\n",
              "       [ 3.63290391e+00, -1.07712510e+00],\n",
              "       [ 1.17682281e+00, -1.03907835e+00],\n",
              "       [-1.26708824e+00,  2.10479375e+00],\n",
              "       [ 2.14363311e+00, -1.02821598e+00],\n",
              "       [ 1.60081059e+00,  2.42453223e-01],\n",
              "       [ 2.88949701e+00, -7.67580083e-01],\n",
              "       [-1.38394386e+00,  8.36556025e-01],\n",
              "       [-1.70831734e+00,  3.21636673e-01],\n",
              "       [ 2.31732261e+00,  1.56658230e+00],\n",
              "       [ 1.50817253e+00, -2.71781946e+00],\n",
              "       [-2.17750190e+00, -3.57330737e-01],\n",
              "       [ 2.19971329e+00, -9.73616559e-01],\n",
              "       [ 8.87577249e-02,  1.86144167e-01],\n",
              "       [-5.49024707e-02,  1.61346612e+00],\n",
              "       [-2.31334832e+00, -2.85184111e-01],\n",
              "       [ 1.87665680e+00,  1.48860720e+00],\n",
              "       [ 1.83891736e+00, -1.31481986e-01],\n",
              "       [ 1.54990768e-01, -1.16483718e+00],\n",
              "       [ 2.64246410e+00,  1.13365686e+00],\n",
              "       [-1.09177970e+00, -1.29306395e+00],\n",
              "       [ 2.05112753e-01,  2.22394183e+00],\n",
              "       [ 2.69869670e+00, -1.33881977e+00],\n",
              "       [ 3.57272317e-01,  7.77963981e-01],\n",
              "       [-2.64446014e+00, -1.36362761e+00],\n",
              "       [-2.07253303e+00, -1.44832912e+00],\n",
              "       [ 1.39145367e+00, -1.75234950e+00],\n",
              "       [-1.66932526e+00,  5.29596108e-01],\n",
              "       [-8.20209906e-01,  1.65494680e+00],\n",
              "       [-1.22240504e+00,  5.93036867e-01],\n",
              "       [-2.49047501e-01, -1.14791570e+00],\n",
              "       [ 2.26648516e+00,  6.24247451e-02],\n",
              "       [-1.12730815e+00,  3.46585604e+00],\n",
              "       [-1.28426126e+00, -1.24103889e+00],\n",
              "       [-2.09816940e+00,  7.81649408e-01],\n",
              "       [ 1.06934997e+00, -9.76186148e-01],\n",
              "       [ 4.29005737e-01,  2.08344351e+00],\n",
              "       [ 2.62418595e+00,  8.88145439e-01],\n",
              "       [-1.94342599e+00,  7.06799070e-01],\n",
              "       [-3.15295120e-01, -1.55300481e+00],\n",
              "       [ 4.72369196e-01,  1.35884722e-01],\n",
              "       [ 9.43636382e-01, -1.20231134e+00],\n",
              "       [ 1.34910335e+00, -2.16658374e+00],\n",
              "       [-1.70395201e+00, -6.83462253e-01],\n",
              "       [-1.80104516e+00, -5.38134157e-01],\n",
              "       [-3.51670951e-01, -8.13641314e-01],\n",
              "       [-1.71517840e+00,  1.76344799e+00],\n",
              "       [ 6.76235224e-01,  9.21337101e-01],\n",
              "       [ 9.98668871e-01, -2.04659496e-01],\n",
              "       [ 2.20594982e+00, -1.60352141e+00],\n",
              "       [ 1.79044753e+00, -1.03500564e-01],\n",
              "       [-1.53513676e+00, -1.95456716e-01],\n",
              "       [ 2.32786124e-01,  9.61375006e-01],\n",
              "       [ 3.02909883e+00, -9.18237562e-01],\n",
              "       [-4.25874548e-01, -4.36127041e-01],\n",
              "       [ 5.99500856e-01,  8.65874807e-01],\n",
              "       [-8.17226003e-01,  5.43599227e-01],\n",
              "       [ 7.62748608e-02,  4.12797193e-01],\n",
              "       [-1.23585628e+00, -5.28891689e-02],\n",
              "       [-5.21548682e-01,  1.36985767e+00],\n",
              "       [-6.14841752e-01,  2.00024387e+00],\n",
              "       [-1.22682524e+00, -2.15306745e-01],\n",
              "       [-3.04646467e+00, -1.09449308e+00],\n",
              "       [-2.01115685e-01,  3.59012668e-01],\n",
              "       [-2.44733925e+00, -1.24631303e+00],\n",
              "       [-2.17453726e+00, -1.10297960e+00],\n",
              "       [ 2.19765804e+00,  2.97485988e+00],\n",
              "       [-7.30082761e-02, -1.62638206e+00],\n",
              "       [-2.38697678e+00,  6.13419115e-01],\n",
              "       [-1.16699477e+00, -9.23910247e-01],\n",
              "       [-2.77070762e+00, -7.72945977e-01],\n",
              "       [-1.67192419e+00, -2.09121110e+00],\n",
              "       [ 4.17398587e+00,  9.19892900e-01],\n",
              "       [-1.94113576e+00, -1.07376376e+00],\n",
              "       [ 8.52101209e-01, -5.57344217e-01],\n",
              "       [ 1.03339489e+00, -3.42303296e-01],\n",
              "       [-5.78629043e-01,  1.10432207e+00],\n",
              "       [ 2.41072385e+00,  2.00807089e+00],\n",
              "       [-1.40926234e-01,  2.26506838e+00],\n",
              "       [-8.38567149e-01,  2.05247107e+00],\n",
              "       [-8.74053742e-01, -6.69155237e-01],\n",
              "       [-2.60635378e+00, -1.08498455e+00],\n",
              "       [-1.54758620e+00, -1.90587301e+00],\n",
              "       [ 1.68392319e+00, -1.51315441e+00]])"
            ]
          },
          "metadata": {},
          "execution_count": 36
        }
      ]
    },
    {
      "cell_type": "code",
      "metadata": {
        "id": "T65FhlaisR-J"
      },
      "source": [
        "pca_df = pd.DataFrame(pca.transform(X_train), columns = ['PC1', 'PC2'])\n",
        "pca_df['target'] = y_train"
      ],
      "id": "T65FhlaisR-J",
      "execution_count": 39,
      "outputs": []
    },
    {
      "cell_type": "code",
      "metadata": {
        "colab": {
          "base_uri": "https://localhost:8080/",
          "height": 419
        },
        "id": "vZfAOQSysaRR",
        "outputId": "d67d97d4-be5a-45a4-bde6-4658eaf86148"
      },
      "source": [
        "pca_df"
      ],
      "id": "vZfAOQSysaRR",
      "execution_count": 40,
      "outputs": [
        {
          "output_type": "execute_result",
          "data": {
            "text/html": [
              "<div>\n",
              "<style scoped>\n",
              "    .dataframe tbody tr th:only-of-type {\n",
              "        vertical-align: middle;\n",
              "    }\n",
              "\n",
              "    .dataframe tbody tr th {\n",
              "        vertical-align: top;\n",
              "    }\n",
              "\n",
              "    .dataframe thead th {\n",
              "        text-align: right;\n",
              "    }\n",
              "</style>\n",
              "<table border=\"1\" class=\"dataframe\">\n",
              "  <thead>\n",
              "    <tr style=\"text-align: right;\">\n",
              "      <th></th>\n",
              "      <th>PC1</th>\n",
              "      <th>PC2</th>\n",
              "      <th>target</th>\n",
              "    </tr>\n",
              "  </thead>\n",
              "  <tbody>\n",
              "    <tr>\n",
              "      <th>0</th>\n",
              "      <td>2.430586</td>\n",
              "      <td>0.117330</td>\n",
              "      <td>1.0</td>\n",
              "    </tr>\n",
              "    <tr>\n",
              "      <th>1</th>\n",
              "      <td>1.914534</td>\n",
              "      <td>0.340468</td>\n",
              "      <td>1.0</td>\n",
              "    </tr>\n",
              "    <tr>\n",
              "      <th>2</th>\n",
              "      <td>-0.856662</td>\n",
              "      <td>2.033953</td>\n",
              "      <td>1.0</td>\n",
              "    </tr>\n",
              "    <tr>\n",
              "      <th>3</th>\n",
              "      <td>-0.008046</td>\n",
              "      <td>-0.785304</td>\n",
              "      <td>1.0</td>\n",
              "    </tr>\n",
              "    <tr>\n",
              "      <th>4</th>\n",
              "      <td>-1.710080</td>\n",
              "      <td>0.275545</td>\n",
              "      <td>1.0</td>\n",
              "    </tr>\n",
              "    <tr>\n",
              "      <th>...</th>\n",
              "      <td>...</td>\n",
              "      <td>...</td>\n",
              "      <td>...</td>\n",
              "    </tr>\n",
              "    <tr>\n",
              "      <th>237</th>\n",
              "      <td>-0.838567</td>\n",
              "      <td>2.052471</td>\n",
              "      <td>0.0</td>\n",
              "    </tr>\n",
              "    <tr>\n",
              "      <th>238</th>\n",
              "      <td>-0.874054</td>\n",
              "      <td>-0.669155</td>\n",
              "      <td>NaN</td>\n",
              "    </tr>\n",
              "    <tr>\n",
              "      <th>239</th>\n",
              "      <td>-2.606354</td>\n",
              "      <td>-1.084985</td>\n",
              "      <td>0.0</td>\n",
              "    </tr>\n",
              "    <tr>\n",
              "      <th>240</th>\n",
              "      <td>-1.547586</td>\n",
              "      <td>-1.905873</td>\n",
              "      <td>0.0</td>\n",
              "    </tr>\n",
              "    <tr>\n",
              "      <th>241</th>\n",
              "      <td>1.683923</td>\n",
              "      <td>-1.513154</td>\n",
              "      <td>0.0</td>\n",
              "    </tr>\n",
              "  </tbody>\n",
              "</table>\n",
              "<p>242 rows × 3 columns</p>\n",
              "</div>"
            ],
            "text/plain": [
              "          PC1       PC2  target\n",
              "0    2.430586  0.117330     1.0\n",
              "1    1.914534  0.340468     1.0\n",
              "2   -0.856662  2.033953     1.0\n",
              "3   -0.008046 -0.785304     1.0\n",
              "4   -1.710080  0.275545     1.0\n",
              "..        ...       ...     ...\n",
              "237 -0.838567  2.052471     0.0\n",
              "238 -0.874054 -0.669155     NaN\n",
              "239 -2.606354 -1.084985     0.0\n",
              "240 -1.547586 -1.905873     0.0\n",
              "241  1.683923 -1.513154     0.0\n",
              "\n",
              "[242 rows x 3 columns]"
            ]
          },
          "metadata": {},
          "execution_count": 40
        }
      ]
    },
    {
      "cell_type": "code",
      "metadata": {
        "colab": {
          "base_uri": "https://localhost:8080/",
          "height": 400
        },
        "id": "aKB3E0KbsiRh",
        "outputId": "a96742cd-79e9-4850-ee0e-b753ab90c4a6"
      },
      "source": [
        "pca_df['target'] = pca_df['target'].astype('str')\n",
        "\n",
        "plt.figure(figsize=(12,6))\n",
        "sns.scatterplot(x='PC1', y='PC2', hue = 'target', data = pca_df)\n",
        "plt.show()"
      ],
      "id": "aKB3E0KbsiRh",
      "execution_count": 41,
      "outputs": [
        {
          "output_type": "display_data",
          "data": {
            "image/png": "[encoded data removed]",
            "text/plain": [
              "<Figure size 864x432 with 1 Axes>"
            ]
          },
          "metadata": {}
        }
      ]
    },
    {
      "cell_type": "code",
      "metadata": {
        "id": "0453ZoOLsp5K"
      },
      "source": [
        ""
      ],
      "id": "0453ZoOLsp5K",
      "execution_count": null,
      "outputs": []
    }
  ]
}